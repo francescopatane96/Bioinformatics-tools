{
  "nbformat": 4,
  "nbformat_minor": 0,
  "metadata": {
    "colab": {
      "name": "Uniprot_URL_based_API_FASTA.ipynb",
      "provenance": [],
      "authorship_tag": "ABX9TyPH8Qays3Ld8Bo8/yMfdLf5",
      "include_colab_link": true
    },
    "kernelspec": {
      "name": "python3",
      "display_name": "Python 3"
    },
    "language_info": {
      "name": "python"
    }
  },
  "cells": [
    {
      "cell_type": "markdown",
      "metadata": {
        "id": "view-in-github",
        "colab_type": "text"
      },
      "source": [
        "<a href=\"https://colab.research.google.com/github/francescopatane96/Bioinformatics-tools/blob/main/Uniprot_URL_based_API_FASTA.ipynb\" target=\"_parent\"><img src=\"https://colab.research.google.com/assets/colab-badge.svg\" alt=\"Open In Colab\"/></a>"
      ]
    },
    {
      "cell_type": "code",
      "source": [
        "!pip install Bio"
      ],
      "metadata": {
        "id": "dSF0WXBMokv4"
      },
      "execution_count": null,
      "outputs": []
    },
    {
      "cell_type": "code",
      "source": [
        "from Bio import SeqIO\n",
        "from tempfile import NamedTemporaryFile\n",
        "import os\n",
        "import requests"
      ],
      "metadata": {
        "id": "vfVylLb8oYY6"
      },
      "execution_count": 6,
      "outputs": []
    },
    {
      "cell_type": "code",
      "execution_count": 12,
      "metadata": {
        "id": "UhgpIHxqoLTo"
      },
      "outputs": [],
      "source": [
        "def fastaFromUniprot(uniprot_id):\n",
        "    r = requests.get(f\"https://www.uniprot.org/uniprot/{uniprot_id}.fasta\")\n",
        "    r.raise_for_status()\n",
        "\n",
        "    with NamedTemporaryFile(suffix=\".fasta\", mode=\"w\", delete=False) as tmp:\n",
        "      tmp.write(r.text)\n",
        "\n",
        "    fasta_sequence = SeqIO.read(tmp.name, format=\"fasta\")\n",
        "    os.remove(tmp.name)\n",
        "\n",
        "    return fasta_sequence"
      ]
    },
    {
      "cell_type": "code",
      "source": [
        "fasta_sequence = fastaFromUniprot(\"P12931\")\n",
        "fasta_sequence"
      ],
      "metadata": {
        "colab": {
          "base_uri": "https://localhost:8080/"
        },
        "id": "1IWdq4-hoby5",
        "outputId": "ad726066-c44d-4464-85b7-c44899ea9ae9"
      },
      "execution_count": 14,
      "outputs": [
        {
          "output_type": "execute_result",
          "data": {
            "text/plain": [
              "SeqRecord(seq=Seq('MGSNKSKPKDASQRRRSLEPAENVHGAGGGAFPASQTPSKPASADGHRGPSAAF...ENL'), id='sp|P12931|SRC_HUMAN', name='sp|P12931|SRC_HUMAN', description='sp|P12931|SRC_HUMAN Proto-oncogene tyrosine-protein kinase Src OS=Homo sapiens OX=9606 GN=SRC PE=1 SV=3', dbxrefs=[])"
            ]
          },
          "metadata": {},
          "execution_count": 14
        }
      ]
    }
  ]
}